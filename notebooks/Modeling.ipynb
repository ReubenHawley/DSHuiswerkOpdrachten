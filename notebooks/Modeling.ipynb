{
 "cells": [
  {
   "cell_type": "markdown",
   "source": [
    "## Select Modeling Technique\n",
    "\n",
    "*As the first step in modeling, select the actual modeling technique that is to be used. Although you may\n",
    "have already selected a tool during the Business Understanding phase, this task refers to the specific\n",
    "modeling technique, e.g., decision-tree building with 5.0, or neural network generation with back\n",
    "propagation. If multiple techniques are applied, perform this task separately for each technique.*"
   ],
   "metadata": {
    "collapsed": false
   }
  },
  {
   "cell_type": "markdown",
   "source": [
    "### Modeling Technique\n",
    "\n",
    "*Document the actual modeling technique that is to be used.*"
   ],
   "metadata": {
    "collapsed": false
   }
  },
  {
   "cell_type": "code",
   "execution_count": null,
   "outputs": [],
   "source": [],
   "metadata": {
    "collapsed": false
   }
  },
  {
   "cell_type": "markdown",
   "source": [
    "### Modeling Assumptions\n",
    "\n",
    "*Many modeling techniques make specific assumptions about the data—for example, that all attributes\n",
    "have uniform distributions, no missing values allowed, class attribute must be symbolic, etc. Record any\n",
    "such assumptions made.*"
   ],
   "metadata": {
    "collapsed": false
   }
  },
  {
   "cell_type": "code",
   "execution_count": null,
   "outputs": [],
   "source": [],
   "metadata": {
    "collapsed": false
   }
  },
  {
   "cell_type": "markdown",
   "source": [
    "## Generate Test Design\n",
    "\n",
    "*Before we actually build a model, we need to generate a procedure or mechanism to test the model’s\n",
    "quality and validity. For example, in supervised data mining tasks such as classification, it is common to\n",
    "use error rates as quality measures for data mining models. Therefore, we typically separate the dataset\n",
    "into train and test sets, build the model on the train set, and estimate its quality on the separate test set.*"
   ],
   "metadata": {
    "collapsed": false
   }
  },
  {
   "cell_type": "markdown",
   "source": [
    "### Test Design\n",
    "*Describe the intended plan for training, testing, and evaluating the models. A primary component of the\n",
    "plan is determining how to divide the available dataset into training, test, and validation datasets.*"
   ],
   "metadata": {
    "collapsed": false
   }
  },
  {
   "cell_type": "code",
   "execution_count": null,
   "outputs": [],
   "source": [],
   "metadata": {
    "collapsed": false
   }
  },
  {
   "cell_type": "markdown",
   "source": [
    "## Build Model\n",
    "\n",
    "*Run the modeling tool on the prepared dataset to create one or more models.*"
   ],
   "metadata": {
    "collapsed": false
   }
  },
  {
   "cell_type": "code",
   "execution_count": null,
   "outputs": [],
   "source": [],
   "metadata": {
    "collapsed": false
   }
  },
  {
   "cell_type": "markdown",
   "source": [
    "### Parameter Settings\n",
    "\n",
    "*With any modeling tool, there are often a large number of parameters that can be adjusted. List the\n",
    "parameters and their chosen values, along with the rationale for the choice of parameter settings.*"
   ],
   "metadata": {
    "collapsed": false
   }
  },
  {
   "cell_type": "code",
   "execution_count": null,
   "outputs": [],
   "source": [],
   "metadata": {
    "collapsed": false
   }
  },
  {
   "cell_type": "markdown",
   "source": [
    "### Models\n",
    "\n",
    "*These are the actual models produced by the modeling tool, not a report.*\n"
   ],
   "metadata": {
    "collapsed": false
   }
  },
  {
   "cell_type": "markdown",
   "source": [
    "### Model Description\n",
    "\n",
    "*Describe the resulting models. Report on the interpretation of the models and document any difficulties\n",
    "encountered with their meanings.*"
   ],
   "metadata": {
    "collapsed": false
   }
  },
  {
   "cell_type": "code",
   "execution_count": null,
   "outputs": [],
   "source": [],
   "metadata": {
    "collapsed": false
   }
  },
  {
   "cell_type": "markdown",
   "source": [
    "## Assess Model\n",
    "\n",
    "*The data mining engineer interprets the models according to his domain knowledge, the data mining\n",
    "success criteria, and the desired test design. The data mining engineer judges the success of the\n",
    "application of modeling and discovery techniques technically; he contacts business analysts and domain\n",
    "experts later in order to discuss the data mining results in the business context. Please note that this task\n",
    "only considers models, whereas the evaluation phase also takes into account all other results that were\n",
    "produced in the course of the project.*\n",
    "\n",
    "*The data mining engineer tries to rank the models. He assesses the models according to the evaluation\n",
    "criteria. As much as possible, he also takes into account business objectives and business success criteria.\n",
    "In most data mining projects, the data mining engineer applies a single technique more than once, or\n",
    "generates data mining results with several different techniques. In this task, he also compares all results\n",
    "according to the evaluation criteria.*"
   ],
   "metadata": {
    "collapsed": false
   }
  },
  {
   "cell_type": "code",
   "execution_count": null,
   "outputs": [],
   "source": [],
   "metadata": {
    "collapsed": false
   }
  },
  {
   "cell_type": "markdown",
   "source": [
    "### Model Assessment\n",
    "\n",
    "*Summarize results of this task, list qualities of generated models (e.g., in terms of accuracy), and rank\n",
    "their quality in relation to each other.*"
   ],
   "metadata": {
    "collapsed": false
   }
  },
  {
   "cell_type": "code",
   "execution_count": null,
   "outputs": [],
   "source": [],
   "metadata": {
    "collapsed": false
   }
  },
  {
   "cell_type": "markdown",
   "source": [
    "### Revised Parameter Settings\n",
    "\n",
    "*According to the model assessment, revise parameter settings and tune them for the next run in the Build\n",
    "Model task. Iterate model building and assessment until you strongly believe that you have found the best\n",
    "model(s). Document all such revisions and assessments.*"
   ],
   "metadata": {
    "collapsed": false
   }
  },
  {
   "cell_type": "code",
   "execution_count": null,
   "outputs": [],
   "source": [],
   "metadata": {
    "collapsed": false
   }
  }
 ],
 "metadata": {
  "kernelspec": {
   "display_name": "Python 3",
   "language": "python",
   "name": "python3"
  },
  "language_info": {
   "codemirror_mode": {
    "name": "ipython",
    "version": 2
   },
   "file_extension": ".py",
   "mimetype": "text/x-python",
   "name": "python",
   "nbconvert_exporter": "python",
   "pygments_lexer": "ipython2",
   "version": "2.7.6"
  }
 },
 "nbformat": 4,
 "nbformat_minor": 0
}
