{
 "cells": [
  {
   "cell_type": "markdown",
   "source": [
    "# 1) Business Understanding\n",
    "## Business Objectives\n",
    "\n",
    "*The first objective of the data analyst is to thoroughly understand, from a business perspective, what the\n",
    "customer really wants to accomplish. Often the customer has many competing objectives and constraints\n",
    "that must be properly balanced. The analyst’s goal is to uncover important factors, at the beginning, that\n",
    "can influence the outcome of the project. A possible consequence of neglecting this step is to expend a\n",
    "great deal of effort producing the right answers to the wrong questions.*\n",
    "\n",
    "### Background\n",
    "\n",
    "*Record the information that is known about the organization’s business situation at the beginning of the project.*"
   ],
   "metadata": {
    "collapsed": false
   }
  },
  {
   "cell_type": "markdown",
   "source": [
    "Based on measurements using a polar meter, a data set can be compiled that includes the amount of rainfall, the maximum, minimum and average temperatures for each day."
   ],
   "metadata": {
    "collapsed": false
   }
  },
  {
   "cell_type": "markdown",
   "source": [
    "### Business Objectives\n",
    "\n",
    "*Describe the customer’s primary objective, from a business perspective. In addition to the primary business\n",
    "objective, there are typically other related business questions that the customer would like to address. For\n",
    "example, the primary business goal might be to keep current customers by predicting when they are prone\n",
    "to move to a competitor. Examples of related business questions are “How does the primary channel used\n",
    "(e.g., ATM, branch visit, Internet) affect whether customers stay or go?” or “Will lower ATM fees significantly\n",
    "reduce the number of high-value customers who leave?”*"
   ],
   "metadata": {
    "collapsed": false
   }
  },
  {
   "cell_type": "markdown",
   "source": [
    "To better understand the weather patterns and make a prediction of the expected high,low and average temperature 1 week into the future."
   ],
   "metadata": {
    "collapsed": false
   }
  },
  {
   "cell_type": "markdown",
   "source": [
    "### Success Criteria\n",
    "\n",
    "*Describe the criteria for a successful or useful outcome to the project from the business point of view. This\n",
    "might be quite specific and able to be measured objectively, for example, reduction of customer churn to a\n",
    "certain level, or it might be general and subjective, such as “give useful insights into the relationships.” In\n",
    "the latter case, it should be indicated who makes the subjective judgment.*"
   ],
   "metadata": {
    "collapsed": false
   }
  },
  {
   "cell_type": "markdown",
   "source": [
    "When we can with 95% accuracy predict what the high,low and average temperature will be for 7days into the future based on historical data."
   ],
   "metadata": {
    "collapsed": false
   }
  },
  {
   "cell_type": "markdown",
   "source": [
    "## Assess Situation\n",
    "### Inventory of resources\n",
    "\n",
    "*List the resources available to the project:*\n",
    "- *Personnel (business experts, data experts, technical\n",
    "support, data mining experts)*\n",
    "- *Data (fixed extracts, access to live, warehoused, or operational data)*\n",
    "- *computing resources (hardware platforms)*\n",
    "- *software (data mining tools, other relevant software).*"
   ],
   "metadata": {
    "collapsed": false
   }
  },
  {
   "cell_type": "markdown",
   "source": [
    "a csv dataset in the form of a text file.\n",
    "containing the following features:\n",
    "- stationID\n",
    "- date\n",
    "- temperature avg\n",
    "- temperature high\n",
    "- temperature low\n",
    "- amount of rainfall"
   ],
   "metadata": {
    "collapsed": false
   }
  },
  {
   "cell_type": "markdown",
   "source": [
    "### Requirements, Assumptions and constraints\n",
    "\n",
    "*List all requirements of the project, including schedule of completion, comprehensibility and quality of\n",
    "results, and security, as well as legal issues. As part of this output, make sure that you are allowed to use\n",
    "the data.\n",
    "List the assumptions made by the project. These may be assumptions about the data that can be verified\n",
    "during data mining, but may also include non-verifiable assumptions about the business related to the\n",
    "project. It is particularly important to list the latter if it will affect the validity of the results.\n",
    "List the constraints on the project. These may be constraints on the availability of resources, but may also\n",
    "include technological constraints such as the size of dataset that it is practical to use for modeling.*"
   ],
   "metadata": {
    "collapsed": false
   }
  },
  {
   "cell_type": "markdown",
   "source": [
    "Functional requirements:\n",
    "- a dataset that comprises multiyear readings in order to determine seasonality\n",
    "\n",
    "Assumptions:\n",
    "- The dataset provided by KNMI is accurate\n",
    "- The dataset provided by KNMI is without errors\n",
    "- The dataset provided by KNMI does not contain null values\n",
    "- The dataset provided by KNMI has been accurately recorded and that no dates are missing\n",
    "- temperatures are recorded in degrees celsius\n",
    "- values are grouped per day\n",
    "\n",
    "Constraints:\n",
    "- Data is limited to the dates provided by the KNMI"
   ],
   "metadata": {
    "collapsed": false
   }
  },
  {
   "cell_type": "markdown",
   "source": [
    "### Risks and contingencies\n",
    "*List the risks or events that might delay the project or cause it to fail. List the corresponding contingency\n",
    "plans, what action will be taken if these risks or events take place.*"
   ],
   "metadata": {
    "collapsed": false
   }
  },
  {
   "cell_type": "markdown",
   "source": [
    "### Terminology\n",
    "\n",
    "*Compile a glossary of terminology relevant to the project. This may include two components:\n",
    "(1) A glossary of relevant business terminology, which forms part of the business understanding\n",
    "available to the project. Constructing this glossary is a useful “knowledge elicitation” and\n",
    "education exercise.\n",
    "(2) A glossary of data mining terminology, illustrated with examples relevant to the business\n",
    "problem in question*"
   ],
   "metadata": {
    "collapsed": false
   }
  },
  {
   "cell_type": "markdown",
   "source": [
    "rainfall refers to the amount fo rainfall in millimeters\n",
    "min refers to the minimum temperature\n",
    "max refers to the maximum temperature\n",
    "date refers to a single day"
   ],
   "metadata": {
    "collapsed": false
   }
  },
  {
   "cell_type": "markdown",
   "source": [
    "### Costs and benefits\n",
    "*Construct a cost-benefit analysis for the project, which compares the costs of the project with the potential\n",
    "benefits to the business if it is successful. The comparison should be as specific as possible. For example,\n",
    "use monetary measures in a commercial situation.*"
   ],
   "metadata": {
    "collapsed": false
   }
  },
  {
   "cell_type": "markdown",
   "source": [
    "Costs:\n",
    "- time\n",
    "- money\n",
    "\n",
    "Benefits:\n",
    "- being able to accurately predict temperatures can lead to better decisions regarding agriculture\n",
    "- being able to make accurate predictions about the rainfall can help in sustaining a workable model for maintaining dykes."
   ],
   "metadata": {
    "collapsed": false
   }
  },
  {
   "cell_type": "markdown",
   "source": [
    "## Determine Data mining goals\n",
    "\n",
    "*A business goal states objectives in business terminology. A data mining goal states project objectives in\n",
    "technical terms. For example, the business goal might be “Increase catalog sales to existing customers.” A\n",
    "data mining goal might be “Predict how many widgets a customer will buy, given their purchases over the\n",
    "past three years, demographic information (age, salary, city, etc.), and the price of the item.”*"
   ],
   "metadata": {
    "collapsed": false
   }
  },
  {
   "cell_type": "markdown",
   "source": [
    "### Data mining goals\n",
    "\n",
    "*Describe the intended outputs of the project that enable the achievement of the business objectives.*\n"
   ],
   "metadata": {
    "collapsed": false
   }
  },
  {
   "cell_type": "markdown",
   "source": [
    "- obtain a multi-year data set\n",
    "- data contains the features: minimum, average, and maximum temperatures inlcuding rainfall per station, per day"
   ],
   "metadata": {
    "collapsed": false
   }
  },
  {
   "cell_type": "markdown",
   "source": [
    "### Data mining success criteria\n",
    "\n",
    "*Define the criteria for a successful outcome to the project in technical terms—for example, a certain level\n",
    "of predictive accuracy or a propensity-to-purchase profile with a given degree of “lift.” As with business\n",
    "success criteria, it may be necessary to describe these in subjective terms, in which case the person or\n",
    "persons making the subjective judgment should be identified.*"
   ],
   "metadata": {
    "collapsed": false
   }
  },
  {
   "cell_type": "markdown",
   "source": [
    "- when we have a multi-year data set\n",
    "- data set is complete and without missing values\n",
    "- data contains the features: minimum, average, and maximum temperatures inlcuding rainfall per station, per day"
   ],
   "metadata": {
    "collapsed": false
   }
  },
  {
   "cell_type": "markdown",
   "source": [
    "## Project plan\n",
    "### Produce Project plan\n",
    "\n",
    "*Describe the intended plan for achieving the data mining goals and thereby achieving the business goals.\n",
    "The plan should specify the steps to be performed during the rest of the project, including the initial\n",
    "selection of tools and techniques.*\n",
    "\n",
    "*List the stages to be executed in the project, together with their duration, resources required, inputs,\n",
    "outputs, and dependencies. Where possible, make explicit the large-scale iterations in the data mining\n",
    "process—for example, repetitions of the modeling and evaluation phases.\n",
    "As part of the project plan, it is also important to analyze dependencies between time schedule and risks.\n",
    "Mark results of these analyses explicitly in the project plan, ideally with actions and recommendations if\n",
    "the risks are manifested.*\n"
   ],
   "metadata": {
    "collapsed": false
   }
  },
  {
   "cell_type": "markdown",
   "source": [
    "1) Gather data\n",
    "2) Perform textual exploratory analysis\n",
    "3) Perform visualized exploratory analysis\n",
    "4) Create initial model\n",
    "5) Test effectiveness of the model\n",
    "6) Repeat step 2-6 until the goal criteria is achieved"
   ],
   "metadata": {
    "collapsed": false
   }
  },
  {
   "cell_type": "markdown",
   "source": [
    "### Tools and techniques\n",
    "\n",
    "*At the end of the first phase, an initial assessment of tools and techniques should be performed. Here, for\n",
    "example, you select a data mining tool that supports various methods for different stages of the process.\n",
    "It is important to assess tools and techniques early in the process since the selection of tools and techniques\n",
    "may influence the entire project.*\n"
   ],
   "metadata": {
    "collapsed": false
   }
  },
  {
   "cell_type": "markdown",
   "source": [
    "<div>\n",
    "<table class=\"tg\">\n",
    "<thead>\n",
    "  <tr>\n",
    "    <th>Application Domain</th>\n",
    "    <th>Data Mining Problem Type</th>\n",
    "    <th>Technical Aspect</th>\n",
    "    <th>Tool &amp; Technique</th>\n",
    "  </tr>\n",
    "</thead>\n",
    "<tbody>\n",
    "  <tr>\n",
    "    <td>Data gathering</td>\n",
    "    <td>Reading and importing data</td>\n",
    "    <td>reading csv files</td>\n",
    "    <td>pandas</td>\n",
    "  </tr>\n",
    "  <tr>\n",
    "    <td>Response Modeling</td>\n",
    "    <td>Description &amp; Summarization</td>\n",
    "    <td>Missing Values</td>\n",
    "    <td>pandas</td>\n",
    "  </tr>\n",
    "    <tr>\n",
    "    <td>Response Modeling</td>\n",
    "    <td>Description &amp; Summarization</td>\n",
    "    <td>statistical overview</td>\n",
    "    <td>pandas</td>\n",
    "  </tr>\n",
    "    </tr>\n",
    "    <tr>\n",
    "    <td>Response Modeling</td>\n",
    "    <td>Description &amp; Summarization</td>\n",
    "    <td>Visualization</td>\n",
    "    <td>matplotlib</td>\n",
    "  </tr>\n",
    "</tbody>\n",
    "</table>\n",
    "</div>"
   ],
   "metadata": {
    "collapsed": false
   }
  }
 ],
 "metadata": {
  "kernelspec": {
   "display_name": "Python 3",
   "language": "python",
   "name": "python3"
  },
  "language_info": {
   "codemirror_mode": {
    "name": "ipython",
    "version": 2
   },
   "file_extension": ".py",
   "mimetype": "text/x-python",
   "name": "python",
   "nbconvert_exporter": "python",
   "pygments_lexer": "ipython2",
   "version": "2.7.6"
  }
 },
 "nbformat": 4,
 "nbformat_minor": 0
}
