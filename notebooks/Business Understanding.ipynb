{
 "cells": [
  {
   "cell_type": "markdown",
   "source": [
    "# 1) Business Understanding\n",
    "## Business Objectives\n",
    "### Background\n",
    "Based on measurements using a polar meter, a data set can be compiled that includes the amount of rainfall, the maximum, minimum and average temperatures for each day.\n",
    "### Business Objectives\n",
    "To better understand the weather patterns and make a prediction of the expected high,low and average temperature 1 week into the future.\n",
    "### Success Criteria\n",
    "When we can with 95% accuracy predict what the high,low and average temperature will be for 7days into the future based on historical data.\n"
   ],
   "metadata": {
    "collapsed": false
   }
  },
  {
   "cell_type": "markdown",
   "source": [
    "## Assess Situation\n",
    "### Inventory of resources\n",
    "a csv dataset in the form of a text file.\n",
    "containing the following features:\n",
    "- stationID\n",
    "- date\n",
    "- temperature avg\n",
    "- temperature high\n",
    "- temperature low\n",
    "- amount of rainfall\n"
   ],
   "metadata": {
    "collapsed": false
   }
  },
  {
   "cell_type": "markdown",
   "source": [
    "### Requirements\n",
    "Functional requirements:\n",
    "- a dataset that comprises multiyear readings in order to determine seasonality\n"
   ],
   "metadata": {
    "collapsed": false
   }
  },
  {
   "cell_type": "markdown",
   "source": [
    "### Assumptions and constraints\n",
    "Assumptions:\n",
    "- The dataset provided by KNMI is accurate\n",
    "- The dataset provided by KNMI is without errors\n",
    "- The dataset provided by KNMI does not contain null values\n",
    "- The dataset provided by KNMI has been accurately recorded and that no dates are missing\n",
    "- temperatures are recorded in degrees celsius\n",
    "- values are grouped per day\n",
    "Constraints:\n",
    "- Data is limited to the dates provided by the KNMI"
   ],
   "metadata": {
    "collapsed": false
   }
  },
  {
   "cell_type": "markdown",
   "source": [
    "### Terminology\n",
    "rainfall refers to the amount fo rainfall in millimeters\n",
    "min refers to the minimum temperature\n",
    "max refers to the maximum temperature\n",
    "date refers to a single day"
   ],
   "metadata": {
    "collapsed": false
   }
  },
  {
   "cell_type": "markdown",
   "source": [
    "### Costs and benefits\n",
    "Costs:\n",
    "- time\n",
    "- money\n",
    "\n",
    "Benefits:\n",
    "- being able to accurately predict temperatures can lead to better decisions regarding agriculture\n",
    "- being able to make accurate predictions about the rainfall can help in sustaining a workable model for maintaining dykes."
   ],
   "metadata": {
    "collapsed": false
   }
  },
  {
   "cell_type": "markdown",
   "source": [
    "## Determine Data mining goals\n",
    "### Data mining goals\n",
    "- obtain a multi-year data set\n",
    "- data contains the features: minimum, average, and maximum temperatures inlcuding rainfall per station, per day\n",
    "\n",
    "### Data mining success criteria\n",
    "- when we have a multi-year data set\n",
    "- data set is complete and without missing values\n",
    "- data contains the features: minimum, average, and maximum temperatures inlcuding rainfall per station, per day"
   ],
   "metadata": {
    "collapsed": false
   }
  },
  {
   "cell_type": "markdown",
   "source": [
    "## Project plan\n",
    "\n",
    "1) Gather data\n",
    "2) Perform textual exploratory analysis\n",
    "3) Perform visualized exploratory analysis\n",
    "4) Create initial model\n",
    "5) Test effectiveness of the model\n",
    "6) Repeat step 2-6 until the goal criteria is achieved\n",
    "\n",
    "### Tools and techniques\n",
    "\n",
    "<div>\n",
    "<table class=\"tg\">\n",
    "<thead>\n",
    "  <tr>\n",
    "    <th>Application Domain</th>\n",
    "    <th>Data Mining Problem Type</th>\n",
    "    <th>Technical Aspect</th>\n",
    "    <th>Tool &amp; Technique</th>\n",
    "  </tr>\n",
    "</thead>\n",
    "<tbody>\n",
    "  <tr>\n",
    "    <td>Data gathering</td>\n",
    "    <td>Reading and importing data</td>\n",
    "    <td>reading csv files</td>\n",
    "    <td>pandas</td>\n",
    "  </tr>\n",
    "  <tr>\n",
    "    <td>Response Modeling</td>\n",
    "    <td>Description &amp; Summarization</td>\n",
    "    <td>Missing Values</td>\n",
    "    <td>pandas</td>\n",
    "  </tr>\n",
    "    <tr>\n",
    "    <td>Response Modeling</td>\n",
    "    <td>Description &amp; Summarization</td>\n",
    "    <td>statistical overview</td>\n",
    "    <td>pandas</td>\n",
    "  </tr>\n",
    "    </tr>\n",
    "    <tr>\n",
    "    <td>Response Modeling</td>\n",
    "    <td>Description &amp; Summarization</td>\n",
    "    <td>Visualization</td>\n",
    "    <td>matplotlib</td>\n",
    "  </tr>\n",
    "</tbody>\n",
    "</table>\n",
    "</div>"
   ],
   "metadata": {
    "collapsed": false
   }
  }
 ],
 "metadata": {
  "kernelspec": {
   "display_name": "Python 3",
   "language": "python",
   "name": "python3"
  },
  "language_info": {
   "codemirror_mode": {
    "name": "ipython",
    "version": 2
   },
   "file_extension": ".py",
   "mimetype": "text/x-python",
   "name": "python",
   "nbconvert_exporter": "python",
   "pygments_lexer": "ipython2",
   "version": "2.7.6"
  }
 },
 "nbformat": 4,
 "nbformat_minor": 0
}
