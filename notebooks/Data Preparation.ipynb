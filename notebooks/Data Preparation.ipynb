{
 "cells": [
  {
   "cell_type": "code",
   "execution_count": null,
   "metadata": {
    "collapsed": true
   },
   "outputs": [],
   "source": [
    "import os\n",
    "import pandas as pd\n",
    "import Helper_funcs"
   ]
  },
  {
   "cell_type": "code",
   "execution_count": null,
   "outputs": [],
   "source": [
    "# This gets the current path and navigates one folder higher to the project level path\n",
    "# this also assumes you have notebooks in a notebook folder\n",
    "path = os.path.dirname(os.getcwd())\n",
    "# name of the file including the folder where it is stored in\n",
    "filename= \"data\\knmi_data.txt\"\n",
    "# Joins the path of the filename and the project path, this is OS-agnostic and will work on linux, MACOS and windows\n",
    "data_source = os.path.join(path,filename)"
   ],
   "metadata": {
    "collapsed": false
   }
  },
  {
   "cell_type": "code",
   "execution_count": null,
   "outputs": [],
   "source": [
    "columns = ['station', 'datum', 'T_gem', 'T_min', 'T_max', 'Neerslag']\n",
    "df = Helper_funcs.read_csv(data_source,columns)"
   ],
   "metadata": {
    "collapsed": false
   }
  },
  {
   "cell_type": "markdown",
   "source": [
    "## Select data\n",
    "### Rational for inclusion/exclusion"
   ],
   "metadata": {
    "collapsed": false
   }
  }
 ],
 "metadata": {
  "kernelspec": {
   "display_name": "Python 3",
   "language": "python",
   "name": "python3"
  },
  "language_info": {
   "codemirror_mode": {
    "name": "ipython",
    "version": 2
   },
   "file_extension": ".py",
   "mimetype": "text/x-python",
   "name": "python",
   "nbconvert_exporter": "python",
   "pygments_lexer": "ipython2",
   "version": "2.7.6"
  }
 },
 "nbformat": 4,
 "nbformat_minor": 0
}
