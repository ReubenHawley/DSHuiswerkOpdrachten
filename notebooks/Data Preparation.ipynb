{
 "cells": [
  {
   "cell_type": "markdown",
   "source": [
    "### Dataset\n",
    "\n",
    "*These are the dataset(s) produced by the data preparation phase, which will be used for modeling or the\n",
    "major analysis work of the project.*\n",
    "\n",
    "### Dataset Description\n",
    "\n",
    "*Describe the dataset(s) that will be used for the modeling and the major analysis work of the project.*"
   ],
   "metadata": {
    "collapsed": false
   },
   "outputs": [
    {
     "ename": "SyntaxError",
     "evalue": "invalid syntax (3038759178.py, line 3)",
     "output_type": "error",
     "traceback": [
      "\u001B[1;36m  Cell \u001B[1;32mIn[1], line 3\u001B[1;36m\u001B[0m\n\u001B[1;33m    *These are the dataset(s) produced by the data preparation phase, which will be used for modeling or the\u001B[0m\n\u001B[1;37m           ^\u001B[0m\n\u001B[1;31mSyntaxError\u001B[0m\u001B[1;31m:\u001B[0m invalid syntax\n"
     ]
    }
   ],
   "execution_count": 1
  },
  {
   "cell_type": "markdown",
   "source": [
    "## Select data\n",
    "\n",
    "*Decide on the data to be used for analysis. Criteria include relevance to the data mining goals, quality, and\n",
    "technical constraints such as limits on data volume or data types. Note that data selection covers selection\n",
    "of attributes (columns) as well as selection of records (rows) in a table.*"
   ],
   "metadata": {
    "collapsed": false
   }
  },
  {
   "cell_type": "code",
   "execution_count": null,
   "outputs": [],
   "source": [],
   "metadata": {
    "collapsed": false
   }
  },
  {
   "cell_type": "markdown",
   "source": [
    "### Rational for inclusion/exclusion\n",
    "\n",
    "*List the data to be included/excluded and the reasons for these decisions.*\n"
   ],
   "metadata": {
    "collapsed": false
   }
  },
  {
   "cell_type": "markdown",
   "source": [
    "## Clean Data\n",
    "\n",
    "*Raise the data quality to the level required by the selected analysis techniques. This may involve selection\n",
    "of clean subsets of the data, the insertion of suitable defaults, or more ambitious techniques such as the\n",
    "estimation of missing data by modeling.*"
   ],
   "metadata": {
    "collapsed": false
   }
  },
  {
   "cell_type": "code",
   "execution_count": null,
   "outputs": [],
   "source": [],
   "metadata": {
    "collapsed": false
   }
  },
  {
   "cell_type": "markdown",
   "source": [
    "### Data Cleaning Report\n",
    "\n",
    "*Describe what decisions and actions were taken to address the data quality problems reported during the\n",
    "Verify Data Quality task of the Data Understanding phase. Transformations of the data for cleaning purposes\n",
    "and the possible impact on the analysis results should be considered.*"
   ],
   "metadata": {
    "collapsed": false
   }
  },
  {
   "cell_type": "code",
   "execution_count": null,
   "outputs": [],
   "source": [],
   "metadata": {
    "collapsed": false
   }
  },
  {
   "cell_type": "markdown",
   "source": [
    "## Construct Data\n",
    "\n",
    "*This task includes constructive data preparation operations such as the production of derived attributes or\n",
    "entire new records, or transformed values for existing attributes.*"
   ],
   "metadata": {
    "collapsed": false
   }
  },
  {
   "cell_type": "markdown",
   "source": [
    "### Derived Attributes\n",
    "\n",
    "*Derived attributes are new attributes that are constructed from one or more existing attributes in the same\n",
    "record. Example: area = length * width.*\n"
   ],
   "metadata": {
    "collapsed": false
   }
  },
  {
   "cell_type": "code",
   "execution_count": null,
   "outputs": [],
   "source": [],
   "metadata": {
    "collapsed": false
   }
  },
  {
   "cell_type": "markdown",
   "source": [
    "### Generated Records\n",
    "\n",
    "*Describe the creation of completely new records. Example: Create records for customers who made no\n",
    "purchase during the past year. There was no reason to have such records in the raw data, but for modeling\n",
    "purposes it might make sense to explicitly represent the fact that certain customers made zero purchases.*\n"
   ],
   "metadata": {
    "collapsed": false
   }
  },
  {
   "cell_type": "code",
   "execution_count": null,
   "outputs": [],
   "source": [],
   "metadata": {
    "collapsed": false
   }
  },
  {
   "cell_type": "markdown",
   "source": [
    "## Integrate Data\n",
    "\n",
    "*These are methods whereby information is combined from multiple tables or records to create new records\n",
    "or values.*"
   ],
   "metadata": {
    "collapsed": false
   }
  },
  {
   "cell_type": "code",
   "execution_count": null,
   "outputs": [],
   "source": [],
   "metadata": {
    "collapsed": false
   }
  },
  {
   "cell_type": "markdown",
   "source": [
    "### Merged Data\n",
    "\n",
    "*Merging tables refers to joining together two or more tables that have different information about the same\n",
    "objects. Example: a retail chain has one table with information about each store’s general characteristics\n",
    "(e.g., floor space, type of mall), another table with summarized sales data (e.g., profit, percent change in\n",
    "sales from previous year), and another with information about the demographics of the surrounding area.\n",
    "Each of these tables contains one record for each store. These tables can be merged together into a new\n",
    "table with one record for each store, combining fields from the source tables.*\n",
    "\n",
    "*Merged data also covers aggregations. Aggregation refers to operations in which new values are computed\n",
    "by summarizing information from multiple records and/or tables. For example, converting a table of\n",
    "customer purchases where there is one record for each purchase into a new table where there is one record\n",
    "for each customer, with fields such as number of purchases, average purchase amount, percent of orders\n",
    "charged to credit card, percent of items under promotion, etc.*\n"
   ],
   "metadata": {
    "collapsed": false
   }
  },
  {
   "cell_type": "code",
   "execution_count": null,
   "outputs": [],
   "source": [],
   "metadata": {
    "collapsed": false
   }
  },
  {
   "cell_type": "markdown",
   "source": [
    "## Format Data\n",
    "*Formatting transformations refer to primarily syntactic modifications made to the data that do not change\n",
    "its meaning, but might be required by the modeling tool.*"
   ],
   "metadata": {
    "collapsed": false
   }
  },
  {
   "cell_type": "code",
   "execution_count": null,
   "outputs": [],
   "source": [],
   "metadata": {
    "collapsed": false
   }
  },
  {
   "cell_type": "markdown",
   "source": [
    "### Reformatted Data\n",
    "*Some tools have requirements on the order of the attributes, such as the first field being a unique\n",
    "identifier for each record or the last field being the outcome field the model is to predict.\n",
    "It might be important to change the order of the records in the dataset. Perhaps the modeling tool requires\n",
    "that the records be sorted according to the value of the outcome attribute. Commonly, records of the\n",
    "dataset are initially ordered in some way, but the modeling algorithm needs them to be in a fairly random\n",
    "order. For example, when using neural networks, it is generally best for the records to be presented in a\n",
    "random order, although some tools handle this automatically without explicit user intervention.\n",
    "Additionally, there are purely syntactic changes made to satisfy the requirements of the specific modeling\n",
    "tool. Examples: removing commas from within text fields in comma-delimited data files, trimming all values\n",
    "to a maximum of 32 characters.*"
   ],
   "metadata": {
    "collapsed": false
   }
  },
  {
   "cell_type": "code",
   "execution_count": null,
   "outputs": [],
   "source": [],
   "metadata": {
    "collapsed": false
   }
  }
 ],
 "metadata": {
  "kernelspec": {
   "display_name": "Python 3",
   "language": "python",
   "name": "python3"
  },
  "language_info": {
   "codemirror_mode": {
    "name": "ipython",
    "version": 2
   },
   "file_extension": ".py",
   "mimetype": "text/x-python",
   "name": "python",
   "nbconvert_exporter": "python",
   "pygments_lexer": "ipython2",
   "version": "2.7.6"
  }
 },
 "nbformat": 4,
 "nbformat_minor": 0
}
