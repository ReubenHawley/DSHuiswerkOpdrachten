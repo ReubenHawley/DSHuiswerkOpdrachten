{
 "cells": [
  {
   "cell_type": "markdown",
   "metadata": {},
   "source": [
    "# Data collection and description\n",
    "\n",
    "### Leerdoelen 2. data exploratie & visualisatie\n",
    "- Je leert welke onderdelen in een goede Data Understanding thuis horen.\n",
    "- Je gaat zelf een rapport maken waar een goede Data Understanding in zit. \n",
    "- Je kan met Pandas data inlezen en bewerken. \n",
    "- Je kan met Seaborn of matplotlib visualisaties maken van de data. \n",
    "\n",
    "### Achtergrondinformatie werkcollege 1:\n",
    "- Google naar \n",
    "    - `pandas read csv file`\n",
    "- Datacamp course `Manipulating data with Pandas`\n",
    "\n",
    "### Achtergrondinformatie werkcollege 1:\n",
    "- Google naar \n",
    "    - `pandas dataframe make histogram`\n",
    "    - `pandas correlation`\n",
    "    - `seaborn correlation plot`\n",
    "    - `seaborn pair plot`\n",
    "    - `pandas dataframe plot variables`\n",
    "- Datacamp course `Introduction to Data Visualisation with Python` en eventueel `Data Visualization with Seaborn`. \n",
    "\n",
    "### Opdracht \n",
    "- Maak een Data Understanding hoofdstuk voor de gegeven KNMI dataset, gemodelleerd naar het voorbeeld wat je gekregen hebt. De data is een bewerkte versie van data gedownload van [deze link](https://projects.knmi.nl/klimatologie/daggegevens/selectie.cgi).\n",
    "- Leg uit (Trace&Explain) wat de code in `read_knmi_data` doet in elk van de stappen. \n",
    "- Als je een beeld van de data hebt, probeer iets te zeggen over het soort Business understanding wat je zou kunnen krijgen met deze data. \n",
    "- Data prepation, Modeling en Evaluation hoef je deze week niet aan te vullen. \n",
    "\n",
    "# Business understanding\n",
    "Voor klimaatwetenschappers is het van groot belang om de ontwikkeling van het klimaat te volgen. Echte metingen kunnen trends laten zien, bijvoorbeeld een toename in het aantal extreme regenbuien. Een toename hiervan zou bijvoorbeeld gevolgen kunnen hebben voor de hoogte van de grote rivieren, en dus voor de benodigde hoogte van de dijken. \n",
    "\n",
    "De volgende dataset laat wat klimaatgegevens zien over de tijd. \n",
    "\n",
    "# Data Understanding\n",
    "De data staat in een tekst bestand (.txt), maar na het openen van het bestand in een tekst editor is het duidelijk dat dit een csv-bestand is. De functie `read_knmi_data` leest de knmi datafile in."
   ]
  },
  {
   "cell_type": "markdown",
   "metadata": {},
   "source": [
    "## Instellingen aanpassen\n",
    "Als je gewend bent aan andere ontwikkelomgevingen dan heb je bijv. gemist dat de beschikbare objecten getoond worden en dat je deze automatisch kunt aanvullen. Hiervoor stellen we de completer in op 'greedy' m.b.v. zogenaamde Jupyter Notebook Magic. \n",
    "\n",
    "Om later ook de visualisaties in het Notebook te tonen zorgen we dat de output van het package matplotlib ook als (inline) output wordt getoond in het Notebook."
   ]
  },
  {
   "cell_type": "code",
   "execution_count": 10,
   "metadata": {},
   "outputs": [],
   "source": [
    "#handige jupyter notebook magic\n",
    "%config IPCompleter.greedy = True  \n",
    "%matplotlib inline"
   ]
  },
  {
   "cell_type": "markdown",
   "metadata": {},
   "source": [
    "## initial data collection"
   ]
  },
  {
   "cell_type": "markdown",
   "metadata": {},
   "source": [
    "De data in het tekst-bestand is een csv-bestand. We kunnen dit direct inlezen als csv-bestand in het Notebook.\n",
    "\n",
    "Hiervoor maken we gebruik van de read_csv methode in pandas. \n",
    "- de file moet je altijd meegeven\n",
    "- de separator is ook handig om expliciet aan te geven. Doe je dit niet, dan wordt een komma gebruikt.\n",
    "- In dit tekstbestand staat de toelichting op de variabelen als commentaar. Deze regels moeten worden genegeerd bij het inlezen van de gegevens. Dit doen we door dit mee te geven als argument in de methode.\n",
    "- De kolomnamen staan ook als commentaar aangegeven. We hebben hier twee mogelijke werkwijzen: 1) het bronbestand aanpassen door voor deze regel het commmentaar aan te passen. Nadeel: het is dan later niet navolgbaar wat er is aangepast in de aangeleverde data. We kiezen voor 2) de gegevens inlezen zonder de header van het csv-bestand. Daarna geven we de kolommen in ons DataFrame begrijpbare namen. \n",
    "\n",
    "**We moeten één van onderstaande manieren kiezen om de gegevens te importeren. Welke vinden jullie het geschiktst? Licht je antwoord toe.**"
   ]
  },
  {
   "cell_type": "code",
   "execution_count": 2,
   "metadata": {},
   "outputs": [],
   "source": [
    "#pandas importeren in onze werkomgeving\n",
    "import pandas as pd\n",
    "import os\n",
    "import matplotlib as plt"
   ]
  },
  {
   "cell_type": "code",
   "execution_count": 12,
   "metadata": {},
   "outputs": [],
   "source": [
    "#data files\n",
    "path = os.path.normpath(os.getcwd())\n",
    "filename= \"data\\knmi_data.txt\"\n",
    "data_source = os.path.join(path,filename)"
   ]
  },
  {
   "cell_type": "markdown",
   "source": [
    "knmi_data_1=pd.read_csv(data_source)\n",
    "knmi_data_1"
   ],
   "metadata": {
    "collapsed": false
   }
  },
  {
   "cell_type": "markdown",
   "metadata": {},
   "source": [
    "Hier kan errors voorkomen, alleen te gebruiken bij kleinere datasets waarvan jij 100% weet dat het structuur goed is."
   ]
  },
  {
   "cell_type": "code",
   "execution_count": 13,
   "metadata": {},
   "outputs": [
    {
     "data": {
      "text/plain": "        0         1    2    3    4    5\n0     278  20110201  -18  -38   11   15\n1     278  20110202   29   11   40    3\n2     278  20110203   52   30   80   14\n3     278  20110204   90   61  109   16\n4     278  20110205  114  107  120    0\n...   ...       ...  ...  ...  ...  ...\n3651  278  20210130   -4  -42   16    0\n3652  278  20210131  -27  -64    7    0\n3653  278  20210201    0   -9    9    2\n3654  278  20210202   22    0   77   23\n3655  278  20210203   81   61   95  183\n\n[3656 rows x 6 columns]",
      "text/html": "<div>\n<style scoped>\n    .dataframe tbody tr th:only-of-type {\n        vertical-align: middle;\n    }\n\n    .dataframe tbody tr th {\n        vertical-align: top;\n    }\n\n    .dataframe thead th {\n        text-align: right;\n    }\n</style>\n<table border=\"1\" class=\"dataframe\">\n  <thead>\n    <tr style=\"text-align: right;\">\n      <th></th>\n      <th>0</th>\n      <th>1</th>\n      <th>2</th>\n      <th>3</th>\n      <th>4</th>\n      <th>5</th>\n    </tr>\n  </thead>\n  <tbody>\n    <tr>\n      <th>0</th>\n      <td>278</td>\n      <td>20110201</td>\n      <td>-18</td>\n      <td>-38</td>\n      <td>11</td>\n      <td>15</td>\n    </tr>\n    <tr>\n      <th>1</th>\n      <td>278</td>\n      <td>20110202</td>\n      <td>29</td>\n      <td>11</td>\n      <td>40</td>\n      <td>3</td>\n    </tr>\n    <tr>\n      <th>2</th>\n      <td>278</td>\n      <td>20110203</td>\n      <td>52</td>\n      <td>30</td>\n      <td>80</td>\n      <td>14</td>\n    </tr>\n    <tr>\n      <th>3</th>\n      <td>278</td>\n      <td>20110204</td>\n      <td>90</td>\n      <td>61</td>\n      <td>109</td>\n      <td>16</td>\n    </tr>\n    <tr>\n      <th>4</th>\n      <td>278</td>\n      <td>20110205</td>\n      <td>114</td>\n      <td>107</td>\n      <td>120</td>\n      <td>0</td>\n    </tr>\n    <tr>\n      <th>...</th>\n      <td>...</td>\n      <td>...</td>\n      <td>...</td>\n      <td>...</td>\n      <td>...</td>\n      <td>...</td>\n    </tr>\n    <tr>\n      <th>3651</th>\n      <td>278</td>\n      <td>20210130</td>\n      <td>-4</td>\n      <td>-42</td>\n      <td>16</td>\n      <td>0</td>\n    </tr>\n    <tr>\n      <th>3652</th>\n      <td>278</td>\n      <td>20210131</td>\n      <td>-27</td>\n      <td>-64</td>\n      <td>7</td>\n      <td>0</td>\n    </tr>\n    <tr>\n      <th>3653</th>\n      <td>278</td>\n      <td>20210201</td>\n      <td>0</td>\n      <td>-9</td>\n      <td>9</td>\n      <td>2</td>\n    </tr>\n    <tr>\n      <th>3654</th>\n      <td>278</td>\n      <td>20210202</td>\n      <td>22</td>\n      <td>0</td>\n      <td>77</td>\n      <td>23</td>\n    </tr>\n    <tr>\n      <th>3655</th>\n      <td>278</td>\n      <td>20210203</td>\n      <td>81</td>\n      <td>61</td>\n      <td>95</td>\n      <td>183</td>\n    </tr>\n  </tbody>\n</table>\n<p>3656 rows × 6 columns</p>\n</div>"
     },
     "execution_count": 13,
     "metadata": {},
     "output_type": "execute_result"
    }
   ],
   "source": [
    "knmi_data_2=pd.read_csv(data_source,comment='#', header=None)\n",
    "knmi_data_2"
   ]
  },
  {
   "cell_type": "markdown",
   "metadata": {},
   "source": [
    "Data in de datum kolom zijn niet geformateerd."
   ]
  },
  {
   "cell_type": "code",
   "execution_count": 14,
   "metadata": {},
   "outputs": [
    {
     "data": {
      "text/plain": "        0          1    2    3    4    5\n0     278 2011-02-01  -18  -38   11   15\n1     278 2011-02-02   29   11   40    3\n2     278 2011-02-03   52   30   80   14\n3     278 2011-02-04   90   61  109   16\n4     278 2011-02-05  114  107  120    0\n...   ...        ...  ...  ...  ...  ...\n3651  278 2021-01-30   -4  -42   16    0\n3652  278 2021-01-31  -27  -64    7    0\n3653  278 2021-02-01    0   -9    9    2\n3654  278 2021-02-02   22    0   77   23\n3655  278 2021-02-03   81   61   95  183\n\n[3656 rows x 6 columns]",
      "text/html": "<div>\n<style scoped>\n    .dataframe tbody tr th:only-of-type {\n        vertical-align: middle;\n    }\n\n    .dataframe tbody tr th {\n        vertical-align: top;\n    }\n\n    .dataframe thead th {\n        text-align: right;\n    }\n</style>\n<table border=\"1\" class=\"dataframe\">\n  <thead>\n    <tr style=\"text-align: right;\">\n      <th></th>\n      <th>0</th>\n      <th>1</th>\n      <th>2</th>\n      <th>3</th>\n      <th>4</th>\n      <th>5</th>\n    </tr>\n  </thead>\n  <tbody>\n    <tr>\n      <th>0</th>\n      <td>278</td>\n      <td>2011-02-01</td>\n      <td>-18</td>\n      <td>-38</td>\n      <td>11</td>\n      <td>15</td>\n    </tr>\n    <tr>\n      <th>1</th>\n      <td>278</td>\n      <td>2011-02-02</td>\n      <td>29</td>\n      <td>11</td>\n      <td>40</td>\n      <td>3</td>\n    </tr>\n    <tr>\n      <th>2</th>\n      <td>278</td>\n      <td>2011-02-03</td>\n      <td>52</td>\n      <td>30</td>\n      <td>80</td>\n      <td>14</td>\n    </tr>\n    <tr>\n      <th>3</th>\n      <td>278</td>\n      <td>2011-02-04</td>\n      <td>90</td>\n      <td>61</td>\n      <td>109</td>\n      <td>16</td>\n    </tr>\n    <tr>\n      <th>4</th>\n      <td>278</td>\n      <td>2011-02-05</td>\n      <td>114</td>\n      <td>107</td>\n      <td>120</td>\n      <td>0</td>\n    </tr>\n    <tr>\n      <th>...</th>\n      <td>...</td>\n      <td>...</td>\n      <td>...</td>\n      <td>...</td>\n      <td>...</td>\n      <td>...</td>\n    </tr>\n    <tr>\n      <th>3651</th>\n      <td>278</td>\n      <td>2021-01-30</td>\n      <td>-4</td>\n      <td>-42</td>\n      <td>16</td>\n      <td>0</td>\n    </tr>\n    <tr>\n      <th>3652</th>\n      <td>278</td>\n      <td>2021-01-31</td>\n      <td>-27</td>\n      <td>-64</td>\n      <td>7</td>\n      <td>0</td>\n    </tr>\n    <tr>\n      <th>3653</th>\n      <td>278</td>\n      <td>2021-02-01</td>\n      <td>0</td>\n      <td>-9</td>\n      <td>9</td>\n      <td>2</td>\n    </tr>\n    <tr>\n      <th>3654</th>\n      <td>278</td>\n      <td>2021-02-02</td>\n      <td>22</td>\n      <td>0</td>\n      <td>77</td>\n      <td>23</td>\n    </tr>\n    <tr>\n      <th>3655</th>\n      <td>278</td>\n      <td>2021-02-03</td>\n      <td>81</td>\n      <td>61</td>\n      <td>95</td>\n      <td>183</td>\n    </tr>\n  </tbody>\n</table>\n<p>3656 rows × 6 columns</p>\n</div>"
     },
     "execution_count": 14,
     "metadata": {},
     "output_type": "execute_result"
    }
   ],
   "source": [
    "# parse_dates: Let pandas try and transform this column to a date\n",
    "knmi_data_3=pd.read_csv(data_source,sep=',', comment='#', header=None, parse_dates=[1])\n",
    "knmi_data_3"
   ]
  },
  {
   "cell_type": "markdown",
   "metadata": {},
   "source": [
    "hiermee zijn data geformateerd, commentaar zijn afgehandeld en seperators zijn gespecificeerd"
   ]
  },
  {
   "cell_type": "code",
   "execution_count": 52,
   "metadata": {},
   "outputs": [
    {
     "data": {
      "text/plain": "Timedelta('3655 days 00:00:00')"
     },
     "execution_count": 52,
     "metadata": {},
     "output_type": "execute_result"
    }
   ],
   "source": [
    "knmi_data_4=pd.read_csv(data_source,sep=',', comment='#', header=None, names=['station', 'datum', 'T_gem', 'T_min', 'T_max', 'Neerslag'], parse_dates=[1])"
   ]
  },
  {
   "cell_type": "code",
   "execution_count": 17,
   "metadata": {},
   "outputs": [],
   "source": [
    "knmi_data_4=knmi_data_4.set_index(['station','datum'])"
   ]
  },
  {
   "cell_type": "markdown",
   "metadata": {},
   "source": [
    "[plaats hier je feedback]"
   ]
  },
  {
   "cell_type": "code",
   "execution_count": 20,
   "metadata": {},
   "outputs": [
    {
     "data": {
      "text/plain": "                    T_gem  T_min  T_max  Neerslag\nstation datum                                    \n278     2011-02-01    -18    -38     11        15\n        2011-02-02     29     11     40         3\n        2011-02-03     52     30     80        14\n        2011-02-04     90     61    109        16\n        2011-02-05    114    107    120         0\n...                   ...    ...    ...       ...\n        2021-01-30     -4    -42     16         0\n        2021-01-31    -27    -64      7         0\n        2021-02-01      0     -9      9         2\n        2021-02-02     22      0     77        23\n        2021-02-03     81     61     95       183\n\n[3656 rows x 4 columns]",
      "text/html": "<div>\n<style scoped>\n    .dataframe tbody tr th:only-of-type {\n        vertical-align: middle;\n    }\n\n    .dataframe tbody tr th {\n        vertical-align: top;\n    }\n\n    .dataframe thead th {\n        text-align: right;\n    }\n</style>\n<table border=\"1\" class=\"dataframe\">\n  <thead>\n    <tr style=\"text-align: right;\">\n      <th></th>\n      <th></th>\n      <th>T_gem</th>\n      <th>T_min</th>\n      <th>T_max</th>\n      <th>Neerslag</th>\n    </tr>\n    <tr>\n      <th>station</th>\n      <th>datum</th>\n      <th></th>\n      <th></th>\n      <th></th>\n      <th></th>\n    </tr>\n  </thead>\n  <tbody>\n    <tr>\n      <th rowspan=\"11\" valign=\"top\">278</th>\n      <th>2011-02-01</th>\n      <td>-18</td>\n      <td>-38</td>\n      <td>11</td>\n      <td>15</td>\n    </tr>\n    <tr>\n      <th>2011-02-02</th>\n      <td>29</td>\n      <td>11</td>\n      <td>40</td>\n      <td>3</td>\n    </tr>\n    <tr>\n      <th>2011-02-03</th>\n      <td>52</td>\n      <td>30</td>\n      <td>80</td>\n      <td>14</td>\n    </tr>\n    <tr>\n      <th>2011-02-04</th>\n      <td>90</td>\n      <td>61</td>\n      <td>109</td>\n      <td>16</td>\n    </tr>\n    <tr>\n      <th>2011-02-05</th>\n      <td>114</td>\n      <td>107</td>\n      <td>120</td>\n      <td>0</td>\n    </tr>\n    <tr>\n      <th>...</th>\n      <td>...</td>\n      <td>...</td>\n      <td>...</td>\n      <td>...</td>\n    </tr>\n    <tr>\n      <th>2021-01-30</th>\n      <td>-4</td>\n      <td>-42</td>\n      <td>16</td>\n      <td>0</td>\n    </tr>\n    <tr>\n      <th>2021-01-31</th>\n      <td>-27</td>\n      <td>-64</td>\n      <td>7</td>\n      <td>0</td>\n    </tr>\n    <tr>\n      <th>2021-02-01</th>\n      <td>0</td>\n      <td>-9</td>\n      <td>9</td>\n      <td>2</td>\n    </tr>\n    <tr>\n      <th>2021-02-02</th>\n      <td>22</td>\n      <td>0</td>\n      <td>77</td>\n      <td>23</td>\n    </tr>\n    <tr>\n      <th>2021-02-03</th>\n      <td>81</td>\n      <td>61</td>\n      <td>95</td>\n      <td>183</td>\n    </tr>\n  </tbody>\n</table>\n<p>3656 rows × 4 columns</p>\n</div>"
     },
     "execution_count": 20,
     "metadata": {},
     "output_type": "execute_result"
    }
   ],
   "source": [
    "def read_knmi_data(filename, names):\n",
    "    return pd.read_csv(filename, \n",
    "                       comment='#',               # Skip all comments\n",
    "                       header=None,               # No header\n",
    "                       names=names,\n",
    "                       skipinitialspace=True,     # Fix the trailing spaces after the ','-separator\n",
    "                       index_col=[0,1],           # Use the first two columns as the row index\n",
    "                       parse_dates=[1])           # Let pandas try and transform the second column to a date\n",
    "\n",
    "knmi_data_5 = read_knmi_data(data_source, names=['station', 'datum', 'T_gem', 'T_min', 'T_max', 'Neerslag'])\n",
    "knmi_data_5"
   ]
  },
  {
   "cell_type": "markdown",
   "metadata": {},
   "source": [
    "[plaats hier je feedback]"
   ]
  },
  {
   "cell_type": "markdown",
   "metadata": {},
   "source": [
    "[Onderbouw het alternatief dat jullie kiezen. Kopieer deze code en importeer de gegevens in onze werkomgeving als DataFrame knmi_data]"
   ]
  },
  {
   "cell_type": "code",
   "execution_count": 19,
   "metadata": {},
   "outputs": [],
   "source": [
    "def read_knmi_data(filename, names):\n",
    "    return pd.read_csv(filename,\n",
    "                       comment='#',               # Skip all comments\n",
    "                       header=None,               # No header\n",
    "                       names=names,\n",
    "                       skipinitialspace=True,     # Fix the trailing spaces after the ','-separator\n",
    "                       index_col=[0,1],           # Use the first two columns as the row index\n",
    "                       parse_dates=[1])           # Let pandas try and transform the second column to a date\n",
    "\n",
    "knmi_data = read_knmi_data(data_source, names=['station', 'datum', 'T_gem', 'T_min', 'T_max', 'Neerslag'])"
   ]
  },
  {
   "cell_type": "markdown",
   "metadata": {},
   "source": [
    "## data description\n",
    "**Voer alle stappen uit die nodig zijn om:** \n",
    "\n",
    "*Describe the data that has been acquired, including the format of the data, the quantity of data (for example, the number of records and fields in each table), the identities of the fields, and any other surface features which have been discovered. Evaluate whether the data acquired satisfies the relevant requirements.* \n",
    "(bron: CRISP-DM1.0, p.18)\n",
    "\n",
    "**Gebruik de 3 volgende cellen als format.**"
   ]
  },
  {
   "cell_type": "markdown",
   "metadata": {},
   "source": [
    "[leg uit wat je gaat bekijken en waarom]"
   ]
  },
  {
   "cell_type": "code",
   "execution_count": 32,
   "metadata": {},
   "outputs": [
    {
     "data": {
      "text/plain": "(3656, 4)"
     },
     "execution_count": 32,
     "metadata": {},
     "output_type": "execute_result"
    }
   ],
   "source": [
    "#code inclusief commentaar\n",
    "knmi_data.shape\n"
   ]
  },
  {
   "cell_type": "markdown",
   "metadata": {},
   "source": [
    "Ik zie de hoeveelheid kolommen en rijen, dat geeft mij inzicht in de grote van de data set en of er mogelijk wat ontbreekt"
   ]
  },
  {
   "cell_type": "code",
   "execution_count": 33,
   "outputs": [
    {
     "data": {
      "text/plain": "             T_gem        T_min        T_max     Neerslag\ncount  3656.000000  3656.000000  3656.000000  3656.000000\nmean    105.027899    59.338074   148.262856    20.448578\nstd      61.939013    56.406605    73.191528    41.534217\nmin    -121.000000  -179.000000   -54.000000    -1.000000\n25%      60.000000    19.000000    92.000000     0.000000\n50%     103.000000    60.500000   147.000000     1.000000\n75%     153.000000   103.000000   204.000000    22.000000\nmax     280.000000   198.000000   393.000000   556.000000",
      "text/html": "<div>\n<style scoped>\n    .dataframe tbody tr th:only-of-type {\n        vertical-align: middle;\n    }\n\n    .dataframe tbody tr th {\n        vertical-align: top;\n    }\n\n    .dataframe thead th {\n        text-align: right;\n    }\n</style>\n<table border=\"1\" class=\"dataframe\">\n  <thead>\n    <tr style=\"text-align: right;\">\n      <th></th>\n      <th>T_gem</th>\n      <th>T_min</th>\n      <th>T_max</th>\n      <th>Neerslag</th>\n    </tr>\n  </thead>\n  <tbody>\n    <tr>\n      <th>count</th>\n      <td>3656.000000</td>\n      <td>3656.000000</td>\n      <td>3656.000000</td>\n      <td>3656.000000</td>\n    </tr>\n    <tr>\n      <th>mean</th>\n      <td>105.027899</td>\n      <td>59.338074</td>\n      <td>148.262856</td>\n      <td>20.448578</td>\n    </tr>\n    <tr>\n      <th>std</th>\n      <td>61.939013</td>\n      <td>56.406605</td>\n      <td>73.191528</td>\n      <td>41.534217</td>\n    </tr>\n    <tr>\n      <th>min</th>\n      <td>-121.000000</td>\n      <td>-179.000000</td>\n      <td>-54.000000</td>\n      <td>-1.000000</td>\n    </tr>\n    <tr>\n      <th>25%</th>\n      <td>60.000000</td>\n      <td>19.000000</td>\n      <td>92.000000</td>\n      <td>0.000000</td>\n    </tr>\n    <tr>\n      <th>50%</th>\n      <td>103.000000</td>\n      <td>60.500000</td>\n      <td>147.000000</td>\n      <td>1.000000</td>\n    </tr>\n    <tr>\n      <th>75%</th>\n      <td>153.000000</td>\n      <td>103.000000</td>\n      <td>204.000000</td>\n      <td>22.000000</td>\n    </tr>\n    <tr>\n      <th>max</th>\n      <td>280.000000</td>\n      <td>198.000000</td>\n      <td>393.000000</td>\n      <td>556.000000</td>\n    </tr>\n  </tbody>\n</table>\n</div>"
     },
     "execution_count": 33,
     "metadata": {},
     "output_type": "execute_result"
    }
   ],
   "source": [
    "knmi_data.describe()"
   ],
   "metadata": {
    "collapsed": false
   }
  },
  {
   "cell_type": "markdown",
   "source": [
    "Hier krijg ik statistische inzichten te zien voor ieder kolom die geen index is"
   ],
   "metadata": {
    "collapsed": false
   }
  },
  {
   "cell_type": "code",
   "execution_count": 34,
   "outputs": [
    {
     "data": {
      "text/plain": "                    T_gem  T_min  T_max  Neerslag\nstation datum                                    \n278     2011-02-01    -18    -38     11        15\n        2011-02-02     29     11     40         3\n        2011-02-03     52     30     80        14\n        2011-02-04     90     61    109        16\n        2011-02-05    114    107    120         0",
      "text/html": "<div>\n<style scoped>\n    .dataframe tbody tr th:only-of-type {\n        vertical-align: middle;\n    }\n\n    .dataframe tbody tr th {\n        vertical-align: top;\n    }\n\n    .dataframe thead th {\n        text-align: right;\n    }\n</style>\n<table border=\"1\" class=\"dataframe\">\n  <thead>\n    <tr style=\"text-align: right;\">\n      <th></th>\n      <th></th>\n      <th>T_gem</th>\n      <th>T_min</th>\n      <th>T_max</th>\n      <th>Neerslag</th>\n    </tr>\n    <tr>\n      <th>station</th>\n      <th>datum</th>\n      <th></th>\n      <th></th>\n      <th></th>\n      <th></th>\n    </tr>\n  </thead>\n  <tbody>\n    <tr>\n      <th rowspan=\"5\" valign=\"top\">278</th>\n      <th>2011-02-01</th>\n      <td>-18</td>\n      <td>-38</td>\n      <td>11</td>\n      <td>15</td>\n    </tr>\n    <tr>\n      <th>2011-02-02</th>\n      <td>29</td>\n      <td>11</td>\n      <td>40</td>\n      <td>3</td>\n    </tr>\n    <tr>\n      <th>2011-02-03</th>\n      <td>52</td>\n      <td>30</td>\n      <td>80</td>\n      <td>14</td>\n    </tr>\n    <tr>\n      <th>2011-02-04</th>\n      <td>90</td>\n      <td>61</td>\n      <td>109</td>\n      <td>16</td>\n    </tr>\n    <tr>\n      <th>2011-02-05</th>\n      <td>114</td>\n      <td>107</td>\n      <td>120</td>\n      <td>0</td>\n    </tr>\n  </tbody>\n</table>\n</div>"
     },
     "execution_count": 34,
     "metadata": {},
     "output_type": "execute_result"
    }
   ],
   "source": [
    "knmi_data.head(5)"
   ],
   "metadata": {
    "collapsed": false
   }
  },
  {
   "cell_type": "markdown",
   "source": [
    "Hiermee krijg ik inzicht in hoe de data eruit ziet, wat de waardes zijn en krijg ik een kleine overzicht of er mogelijke problemen of relaties zijn in mijn data."
   ],
   "metadata": {
    "collapsed": false
   }
  },
  {
   "cell_type": "code",
   "execution_count": 53,
   "outputs": [
    {
     "data": {
      "text/plain": "Timedelta('3655 days 00:00:00')"
     },
     "execution_count": 53,
     "metadata": {},
     "output_type": "execute_result"
    }
   ],
   "source": [
    "max(knmi_data_4[\"datum\"])- min(knmi_data_4[\"datum\"])"
   ],
   "metadata": {
    "collapsed": false
   }
  },
  {
   "cell_type": "markdown",
   "source": [
    "Here we can see that the timedelta(measurement of time) of the dataset spans 3655 days."
   ],
   "metadata": {
    "collapsed": false
   }
  },
  {
   "cell_type": "markdown",
   "metadata": {},
   "source": [
    "In je toelichting beschrijf je in elk geval de variabelen in de dataset."
   ]
  },
  {
   "cell_type": "markdown",
   "metadata": {},
   "source": [
    "De variabelen beschrijven de volgende zaken:\n",
    "\n",
    "- T_gem, gemiddelde temperatuur per dag\n",
    "- T_min, de minimum temperatuur per dag\n",
    "- T_max, de maximum temperatuur per dag\n",
    "- Neerslag, de hoeveelheid neerslag per dag\n",
    "- station, het stations id (in de index)\n",
    "- datum, de datum (in de index)\n",
    "\n",
    "[Aanvullen}"
   ]
  },
  {
   "cell_type": "code",
   "execution_count": null,
   "metadata": {},
   "outputs": [],
   "source": []
  }
 ],
 "metadata": {
  "kernelspec": {
   "display_name": "Python 3",
   "language": "python",
   "name": "python3"
  },
  "language_info": {
   "codemirror_mode": {
    "name": "ipython",
    "version": 3
   },
   "file_extension": ".py",
   "mimetype": "text/x-python",
   "name": "python",
   "nbconvert_exporter": "python",
   "pygments_lexer": "ipython3",
   "version": "3.8.5"
  }
 },
 "nbformat": 4,
 "nbformat_minor": 4
}
